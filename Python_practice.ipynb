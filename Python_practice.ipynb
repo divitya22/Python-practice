{
  "nbformat": 4,
  "nbformat_minor": 0,
  "metadata": {
    "colab": {
      "name": "Python_practice.ipynb",
      "provenance": [],
      "collapsed_sections": []
    },
    "kernelspec": {
      "name": "python3",
      "display_name": "Python 3"
    },
    "language_info": {
      "name": "python"
    }
  },
  "cells": [
    {
      "cell_type": "code",
      "metadata": {
        "id": "3jzr7b0TQkMX"
      },
      "source": [
        ""
      ],
      "execution_count": null,
      "outputs": []
    },
    {
      "cell_type": "code",
      "metadata": {
        "id": "nT76IoZMkqle"
      },
      "source": [
        "##Create 2 list and inser values from both list in thirs list"
      ],
      "execution_count": null,
      "outputs": []
    },
    {
      "cell_type": "code",
      "metadata": {
        "colab": {
          "base_uri": "https://localhost:8080/"
        },
        "id": "gjtWRJDXkqo5",
        "outputId": "d1814af8-9303-431e-ba1f-3b9c67c3752a"
      },
      "source": [
        "s1=[1,2,3,4]\n",
        "s2=[4,5,6]\n",
        "s3=s1+s2\n",
        "s3"
      ],
      "execution_count": null,
      "outputs": [
        {
          "output_type": "execute_result",
          "data": {
            "text/plain": [
              "[1, 2, 3, 4, 4, 5, 6]"
            ]
          },
          "metadata": {},
          "execution_count": 2
        }
      ]
    },
    {
      "cell_type": "code",
      "metadata": {
        "colab": {
          "base_uri": "https://localhost:8080/"
        },
        "id": "O7FaLFZRkqsi",
        "outputId": "4a177399-9480-4957-8d12-ef8b4103df0c"
      },
      "source": [
        "## append\n",
        "\n",
        "s3.append(16)\n",
        "s3"
      ],
      "execution_count": null,
      "outputs": [
        {
          "output_type": "execute_result",
          "data": {
            "text/plain": [
              "[1, 2, 3, 4, 4, 5, 6, 16]"
            ]
          },
          "metadata": {},
          "execution_count": 3
        }
      ]
    },
    {
      "cell_type": "code",
      "metadata": {
        "colab": {
          "base_uri": "https://localhost:8080/"
        },
        "id": "40Rk7kw_kqvw",
        "outputId": "dee34514-cb85-4002-98dd-5bda7f89fc79"
      },
      "source": [
        "## insert\n",
        "s3.insert(1,50)\n",
        "s3"
      ],
      "execution_count": null,
      "outputs": [
        {
          "output_type": "execute_result",
          "data": {
            "text/plain": [
              "[1, 50, 2, 3, 4, 4, 5, 6, 16]"
            ]
          },
          "metadata": {},
          "execution_count": 4
        }
      ]
    },
    {
      "cell_type": "code",
      "metadata": {
        "colab": {
          "base_uri": "https://localhost:8080/"
        },
        "id": "K9GpC7-QkqzQ",
        "outputId": "062c5118-be42-4d60-843d-a3c1fbe8645f"
      },
      "source": [
        "## length\n",
        "len(s3)"
      ],
      "execution_count": null,
      "outputs": [
        {
          "output_type": "execute_result",
          "data": {
            "text/plain": [
              "9"
            ]
          },
          "metadata": {},
          "execution_count": 5
        }
      ]
    },
    {
      "cell_type": "code",
      "metadata": {
        "id": "JtJEMOr6kq3x"
      },
      "source": [
        "## Transpose\n",
        "s=[1,2,3,4,5]\n",
        "\n"
      ],
      "execution_count": null,
      "outputs": []
    },
    {
      "cell_type": "code",
      "metadata": {
        "colab": {
          "base_uri": "https://localhost:8080/"
        },
        "id": "DBW8FY06luEv",
        "outputId": "9d867afd-1f67-4b14-fe95-738aa3da2b12"
      },
      "source": [
        "for i in s:\n",
        "  print(i,end=\" \")"
      ],
      "execution_count": null,
      "outputs": [
        {
          "output_type": "stream",
          "name": "stdout",
          "text": [
            "1 2 3 4 5 "
          ]
        }
      ]
    },
    {
      "cell_type": "code",
      "metadata": {
        "id": "iqhTe3gpluIi"
      },
      "source": [
        "## creatre 2 list and create third list having common values\n"
      ],
      "execution_count": null,
      "outputs": []
    },
    {
      "cell_type": "code",
      "metadata": {
        "id": "EW0-LzVWluMT"
      },
      "source": [
        "l1=[1,2,3,4,5,6,8]\n",
        "l2=[2,4,6,7]"
      ],
      "execution_count": null,
      "outputs": []
    },
    {
      "cell_type": "code",
      "metadata": {
        "colab": {
          "base_uri": "https://localhost:8080/"
        },
        "id": "9DVI67AtluQ6",
        "outputId": "2729c90d-d7bd-4be9-974b-17e600041a2f"
      },
      "source": [
        "for i in l1:\n",
        "  for j in l2:\n",
        "    if i==j:\n",
        "      print(i,end=\" \")"
      ],
      "execution_count": null,
      "outputs": [
        {
          "output_type": "stream",
          "name": "stdout",
          "text": [
            "2 4 6 "
          ]
        }
      ]
    },
    {
      "cell_type": "code",
      "metadata": {
        "id": "uHy9drbAluUo"
      },
      "source": [
        "## List comprehension ----create a list L1 and fetch even values from list l1 into another list"
      ],
      "execution_count": null,
      "outputs": []
    },
    {
      "cell_type": "code",
      "metadata": {
        "id": "YatcXQhsluYh"
      },
      "source": [
        "L1=[2,4,6,7,8,9,10,12,16,15]"
      ],
      "execution_count": null,
      "outputs": []
    },
    {
      "cell_type": "code",
      "metadata": {
        "colab": {
          "base_uri": "https://localhost:8080/"
        },
        "id": "hvwtCRibludj",
        "outputId": "2a1863c7-73d0-48f8-a9d9-abca06fddd65"
      },
      "source": [
        "L2=[i for i in L1 if i%2==0]\n",
        "L2"
      ],
      "execution_count": null,
      "outputs": [
        {
          "output_type": "execute_result",
          "data": {
            "text/plain": [
              "[2, 4, 6, 8, 10, 12, 16]"
            ]
          },
          "metadata": {},
          "execution_count": 13
        }
      ]
    },
    {
      "cell_type": "code",
      "metadata": {
        "id": "G0zBKMDukq6j"
      },
      "source": [
        "## Using while loop  print number 1 to 10"
      ],
      "execution_count": null,
      "outputs": []
    },
    {
      "cell_type": "code",
      "metadata": {
        "colab": {
          "base_uri": "https://localhost:8080/"
        },
        "id": "8bffJO4pkmoB",
        "outputId": "bf0b6564-d502-4b12-e240-455c3ce6686f"
      },
      "source": [
        "i=1\n",
        "while i<=10:\n",
        "  print(i,end=\" \")\n",
        "  i=i+1"
      ],
      "execution_count": null,
      "outputs": [
        {
          "output_type": "stream",
          "name": "stdout",
          "text": [
            "1 2 3 4 5 6 7 8 9 10 "
          ]
        }
      ]
    },
    {
      "cell_type": "code",
      "metadata": {
        "id": "c1nWqF5GneUm"
      },
      "source": [
        "## Table of 7 using while loop"
      ],
      "execution_count": null,
      "outputs": []
    },
    {
      "cell_type": "code",
      "metadata": {
        "colab": {
          "base_uri": "https://localhost:8080/"
        },
        "id": "0N5xkw9pneYL",
        "outputId": "0438e6f9-8017-490c-8286-5a6ec3ed58ff"
      },
      "source": [
        "a=7\n",
        "\n",
        "i=1\n",
        "while i <=10:\n",
        "  print(a,\"*\",i,\"=\",a*i)\n",
        "  i=i+1"
      ],
      "execution_count": null,
      "outputs": [
        {
          "output_type": "stream",
          "name": "stdout",
          "text": [
            "7 * 1 = 7\n",
            "7 * 2 = 14\n",
            "7 * 3 = 21\n",
            "7 * 4 = 28\n",
            "7 * 5 = 35\n",
            "7 * 6 = 42\n",
            "7 * 7 = 49\n",
            "7 * 8 = 56\n",
            "7 * 9 = 63\n",
            "7 * 10 = 70\n"
          ]
        }
      ]
    },
    {
      "cell_type": "code",
      "metadata": {
        "id": "aU_aleetnebs"
      },
      "source": [
        "## Create a list and print first word using for loop"
      ],
      "execution_count": null,
      "outputs": []
    },
    {
      "cell_type": "code",
      "metadata": {
        "id": "z_Hmy9nwqMgu"
      },
      "source": [
        "s=[\"java\",\"python\",\"C++\"]"
      ],
      "execution_count": null,
      "outputs": []
    },
    {
      "cell_type": "code",
      "metadata": {
        "colab": {
          "base_uri": "https://localhost:8080/"
        },
        "id": "1mpXPCJAqMlD",
        "outputId": "5c6a77ed-2e8e-433f-f3ed-e972db1154a8"
      },
      "source": [
        "for i in s:\n",
        "  if i==s[0]:\n",
        "    print(i)"
      ],
      "execution_count": null,
      "outputs": [
        {
          "output_type": "stream",
          "name": "stdout",
          "text": [
            "java\n"
          ]
        }
      ]
    },
    {
      "cell_type": "code",
      "metadata": {
        "id": "bgCGMhPuqMpW"
      },
      "source": [
        "## Factorial "
      ],
      "execution_count": null,
      "outputs": []
    },
    {
      "cell_type": "code",
      "metadata": {
        "colab": {
          "base_uri": "https://localhost:8080/"
        },
        "id": "DA6UJOMZqMtp",
        "outputId": "e959b3f7-8df9-4d6e-ba12-1e3b6d4a39f2"
      },
      "source": [
        "n=5\n",
        "a=1\n",
        "\n",
        "for i in range(1,n+1):\n",
        "  a=a*i\n",
        "  print(a,end=\" \")"
      ],
      "execution_count": null,
      "outputs": [
        {
          "output_type": "stream",
          "name": "stdout",
          "text": [
            "1 2 6 24 120 "
          ]
        }
      ]
    },
    {
      "cell_type": "code",
      "metadata": {
        "id": "XthIsuHXqMzE"
      },
      "source": [
        "## Maps in python"
      ],
      "execution_count": null,
      "outputs": []
    },
    {
      "cell_type": "code",
      "metadata": {
        "id": "duKQFfZErSEn"
      },
      "source": [
        "def doubler(x):\n",
        "  return x*2\n",
        "\n",
        "my_list = [1, 3, 5, 2, 4]\n",
        "\n",
        "result = list(map(doubler, my_list))\n",
        "  "
      ],
      "execution_count": null,
      "outputs": []
    },
    {
      "cell_type": "code",
      "metadata": {
        "colab": {
          "base_uri": "https://localhost:8080/"
        },
        "id": "bpSw0hseqM4n",
        "outputId": "9275c062-bfe1-4941-fede-8ae372b1ed71"
      },
      "source": [
        "print(result)"
      ],
      "execution_count": null,
      "outputs": [
        {
          "output_type": "stream",
          "name": "stdout",
          "text": [
            "[2, 6, 10, 4, 8]\n"
          ]
        }
      ]
    },
    {
      "cell_type": "code",
      "metadata": {
        "id": "HxgL1D7hkm7P"
      },
      "source": [
        "## Recursion--func which calls itself"
      ],
      "execution_count": null,
      "outputs": []
    },
    {
      "cell_type": "code",
      "metadata": {
        "id": "d7UuIr5Dto6G"
      },
      "source": [
        "def sum_numb(x):\n",
        "  if x==0:\n",
        "    return 0\n",
        "  else:\n",
        "    return x+sum_numb(x-1)"
      ],
      "execution_count": null,
      "outputs": []
    },
    {
      "cell_type": "code",
      "metadata": {
        "colab": {
          "base_uri": "https://localhost:8080/"
        },
        "id": "UyHZuaHotpAV",
        "outputId": "05d95e4c-1942-42bb-97aa-eca5f359c609"
      },
      "source": [
        "sum_numb(6)"
      ],
      "execution_count": null,
      "outputs": [
        {
          "output_type": "execute_result",
          "data": {
            "text/plain": [
              "21"
            ]
          },
          "metadata": {},
          "execution_count": 28
        }
      ]
    },
    {
      "cell_type": "code",
      "metadata": {
        "id": "Z6mGPV6OufVn"
      },
      "source": [
        "## Exceptional handling--For runti error"
      ],
      "execution_count": null,
      "outputs": []
    },
    {
      "cell_type": "code",
      "metadata": {
        "colab": {
          "base_uri": "https://localhost:8080/"
        },
        "id": "im0w6jYXufaC",
        "outputId": "4e660fd3-5f03-4a37-e68c-cd3d8abbde58"
      },
      "source": [
        "a=5\n",
        "b=0\n",
        "\n",
        "try:\n",
        "  print(a/b)\n",
        "except:\n",
        "  print(\"Number cannot be divided by zero\")\n",
        "\n",
        "print(\"bye\")"
      ],
      "execution_count": null,
      "outputs": [
        {
          "output_type": "stream",
          "name": "stdout",
          "text": [
            "Number cannot be divided by zero\n",
            "bye\n"
          ]
        }
      ]
    },
    {
      "cell_type": "code",
      "metadata": {
        "id": "AIrm4WQBufh8"
      },
      "source": [
        "## Creating a single string "
      ],
      "execution_count": null,
      "outputs": []
    },
    {
      "cell_type": "code",
      "metadata": {
        "colab": {
          "base_uri": "https://localhost:8080/"
        },
        "id": "s9yMrufGwDby",
        "outputId": "39d10504-d622-4aab-d450-50e036509582"
      },
      "source": [
        "a=[\"I\",\"am\",\"here\"]\n",
        "print(\" \".join(a))"
      ],
      "execution_count": null,
      "outputs": [
        {
          "output_type": "stream",
          "name": "stdout",
          "text": [
            "I am here\n"
          ]
        }
      ]
    },
    {
      "cell_type": "code",
      "metadata": {
        "id": "DT5L1Z12wDfT"
      },
      "source": [
        "## Flatten list"
      ],
      "execution_count": null,
      "outputs": []
    },
    {
      "cell_type": "code",
      "metadata": {
        "colab": {
          "base_uri": "https://localhost:8080/"
        },
        "id": "pQblV8xGwDj7",
        "outputId": "726453a5-686e-4dd5-ea6c-d98fb2d4e193"
      },
      "source": [
        "import itertools\n",
        "\n",
        "a=[[1,2],[3,4],[5,6]]\n",
        "\n",
        "b=list(itertools.chain.from_iterable(a))\n",
        "print(b)"
      ],
      "execution_count": null,
      "outputs": [
        {
          "output_type": "stream",
          "name": "stdout",
          "text": [
            "[1, 2, 3, 4, 5, 6]\n"
          ]
        }
      ]
    },
    {
      "cell_type": "code",
      "metadata": {
        "id": "G9mLLTd_wDnX"
      },
      "source": [
        "## Combining two lists"
      ],
      "execution_count": null,
      "outputs": []
    },
    {
      "cell_type": "code",
      "metadata": {
        "colab": {
          "base_uri": "https://localhost:8080/"
        },
        "id": "EjvSOXt3wDrP",
        "outputId": "2bf30b29-16bc-4fcd-c789-814bed91f4b7"
      },
      "source": [
        "a=[\"a\",\"b\",\"c\",\"d\"]\n",
        "b=[\"e\",\"f\",\"g\",\"h\"]\n",
        "\n",
        "for x,y in zip(a,b):\n",
        "  print(x,y)"
      ],
      "execution_count": null,
      "outputs": [
        {
          "output_type": "stream",
          "name": "stdout",
          "text": [
            "a e\n",
            "b f\n",
            "c g\n",
            "d h\n"
          ]
        }
      ]
    },
    {
      "cell_type": "code",
      "metadata": {
        "id": "5ilQS-PzwDuW"
      },
      "source": [
        "## check for more frequent on list"
      ],
      "execution_count": null,
      "outputs": []
    },
    {
      "cell_type": "code",
      "metadata": {
        "colab": {
          "base_uri": "https://localhost:8080/"
        },
        "id": "sFAHYvb3wDx5",
        "outputId": "9461d7c6-bd24-4ba1-f21c-7a1cc5e79873"
      },
      "source": [
        "a=[1,2,3,4,2,2,3,1,4,4,4,4]\n",
        "\n",
        "print(max(set(a),key=a.count))"
      ],
      "execution_count": null,
      "outputs": [
        {
          "output_type": "stream",
          "name": "stdout",
          "text": [
            "4\n"
          ]
        }
      ]
    },
    {
      "cell_type": "code",
      "metadata": {
        "id": "Ei6kVcRBtpCW"
      },
      "source": [
        "## Transposing a matrix"
      ],
      "execution_count": null,
      "outputs": []
    },
    {
      "cell_type": "code",
      "metadata": {
        "colab": {
          "base_uri": "https://localhost:8080/"
        },
        "id": "sncvlJZlyPiO",
        "outputId": "ee6a77a8-a022-43ef-d402-b944e86d279b"
      },
      "source": [
        "mat=[[1,2,3],[4,5,6]]\n",
        "\n",
        "new_mat=zip(*mat)\n",
        "\n",
        "for row in new_mat:\n",
        "  print(row)"
      ],
      "execution_count": null,
      "outputs": [
        {
          "output_type": "stream",
          "name": "stdout",
          "text": [
            "(1, 4)\n",
            "(2, 5)\n",
            "(3, 6)\n"
          ]
        }
      ]
    },
    {
      "cell_type": "code",
      "metadata": {
        "id": "M_i8hwrgyPm4"
      },
      "source": [
        "## Inverting dictionaries"
      ],
      "execution_count": null,
      "outputs": []
    },
    {
      "cell_type": "code",
      "metadata": {
        "colab": {
          "base_uri": "https://localhost:8080/"
        },
        "id": "zpyVM8d7ykze",
        "outputId": "a5a900b9-36f6-4122-b942-15d73c8847d2"
      },
      "source": [
        "dict1={\"a\":1,\"b\":2,\"c\":3,\"d\":4}\n",
        "\n",
        "dict2={v:k for k,v in dict1.items()}\n",
        "print(dict2)"
      ],
      "execution_count": null,
      "outputs": [
        {
          "output_type": "stream",
          "name": "stdout",
          "text": [
            "{1: 'a', 2: 'b', 3: 'c', 4: 'd'}\n"
          ]
        }
      ]
    },
    {
      "cell_type": "code",
      "metadata": {
        "id": "XCaEXIHbyk3Y"
      },
      "source": [
        "## Merging dictionaries"
      ],
      "execution_count": null,
      "outputs": []
    },
    {
      "cell_type": "code",
      "metadata": {
        "colab": {
          "base_uri": "https://localhost:8080/"
        },
        "id": "rFN3RlHJyk6u",
        "outputId": "cd17f713-a8df-4356-8461-f17ab0918c7d"
      },
      "source": [
        "x={\"a\":1,\"b\":1}\n",
        "y={\"b\":3,\"c\":4}\n",
        "z={\"m\":9}\n",
        "\n",
        "z={**x,**y,**z}\n",
        "print(z)"
      ],
      "execution_count": null,
      "outputs": [
        {
          "output_type": "stream",
          "name": "stdout",
          "text": [
            "{'a': 1, 'b': 3, 'c': 4, 'm': 9}\n"
          ]
        }
      ]
    },
    {
      "cell_type": "code",
      "metadata": {
        "id": "kVh7fXICylEU"
      },
      "source": [
        "## Check memory usage of an object"
      ],
      "execution_count": null,
      "outputs": []
    },
    {
      "cell_type": "code",
      "metadata": {
        "colab": {
          "base_uri": "https://localhost:8080/"
        },
        "id": "ZsQSz_pez_dG",
        "outputId": "561f0bcc-eddf-4c24-c091-ecc66b6001bb"
      },
      "source": [
        "import sys\n",
        "\n",
        "a=10\n",
        "print(sys.getsizeof(a))"
      ],
      "execution_count": null,
      "outputs": [
        {
          "output_type": "stream",
          "name": "stdout",
          "text": [
            "28\n"
          ]
        }
      ]
    },
    {
      "cell_type": "code",
      "metadata": {
        "id": "fkyw9MHWz_ha"
      },
      "source": [
        "## Swaping Values"
      ],
      "execution_count": null,
      "outputs": []
    },
    {
      "cell_type": "code",
      "metadata": {
        "colab": {
          "base_uri": "https://localhost:8080/"
        },
        "id": "uk8mnEWWtpKa",
        "outputId": "570fa412-ba91-4e35-8f43-8ff2aafcad1d"
      },
      "source": [
        "x,y=1,2\n",
        "x,y=y,x\n",
        "print(x,y)"
      ],
      "execution_count": null,
      "outputs": [
        {
          "output_type": "stream",
          "name": "stdout",
          "text": [
            "2 1\n"
          ]
        }
      ]
    },
    {
      "cell_type": "code",
      "metadata": {
        "id": "SY2VVlhY0KWJ"
      },
      "source": [
        ""
      ],
      "execution_count": null,
      "outputs": []
    },
    {
      "cell_type": "code",
      "metadata": {
        "id": "YHfybjuC0Km0"
      },
      "source": [
        ""
      ],
      "execution_count": null,
      "outputs": []
    },
    {
      "cell_type": "code",
      "metadata": {
        "id": "cupNz3Mokm8q"
      },
      "source": [
        "## Prime number between 100 and 200"
      ],
      "execution_count": null,
      "outputs": []
    },
    {
      "cell_type": "code",
      "metadata": {
        "colab": {
          "base_uri": "https://localhost:8080/"
        },
        "id": "pX_o9fVBQqHW",
        "outputId": "cdca1f72-c241-4346-8516-8cf1e3d9919b"
      },
      "source": [
        "for num in range(100,200):\n",
        "  if all(num% i !=0 for i in range(2,num)):\n",
        "    print(num)"
      ],
      "execution_count": null,
      "outputs": [
        {
          "output_type": "stream",
          "name": "stdout",
          "text": [
            "101\n",
            "103\n",
            "107\n",
            "109\n",
            "113\n",
            "127\n",
            "131\n",
            "137\n",
            "139\n",
            "149\n",
            "151\n",
            "157\n",
            "163\n",
            "167\n",
            "173\n",
            "179\n",
            "181\n",
            "191\n",
            "193\n",
            "197\n",
            "199\n"
          ]
        }
      ]
    },
    {
      "cell_type": "code",
      "metadata": {
        "id": "bh_q6-DxRBsR"
      },
      "source": [
        "## sort func to sort element in a list"
      ],
      "execution_count": null,
      "outputs": []
    },
    {
      "cell_type": "code",
      "metadata": {
        "id": "1awze732Rfrg"
      },
      "source": [
        "l=[36,33,26,24]"
      ],
      "execution_count": null,
      "outputs": []
    },
    {
      "cell_type": "code",
      "metadata": {
        "colab": {
          "base_uri": "https://localhost:8080/"
        },
        "id": "3x6gTFfWRjq3",
        "outputId": "987095a1-40b0-4304-adc8-8ef9c283565e"
      },
      "source": [
        "l.sort()\n",
        "print(l)"
      ],
      "execution_count": null,
      "outputs": [
        {
          "output_type": "stream",
          "name": "stdout",
          "text": [
            "[24, 26, 33, 36]\n"
          ]
        }
      ]
    },
    {
      "cell_type": "code",
      "metadata": {
        "colab": {
          "base_uri": "https://localhost:8080/"
        },
        "id": "gNral1u5R1cD",
        "outputId": "b6d2cfd4-5638-46ef-d3e8-7730f757ea49"
      },
      "source": [
        "## other way\n",
        "\n",
        "l.sort(reverse=False)\n",
        "print(l)"
      ],
      "execution_count": null,
      "outputs": [
        {
          "output_type": "stream",
          "name": "stdout",
          "text": [
            "[24, 26, 33, 36]\n"
          ]
        }
      ]
    },
    {
      "cell_type": "code",
      "metadata": {
        "id": "s1vG5V2nSFJh"
      },
      "source": [
        "## sort data in list without using sort function"
      ],
      "execution_count": null,
      "outputs": []
    },
    {
      "cell_type": "code",
      "metadata": {
        "id": "aLBf4z-RSVrO"
      },
      "source": [
        "l=[36,33,26,24]"
      ],
      "execution_count": null,
      "outputs": []
    },
    {
      "cell_type": "code",
      "metadata": {
        "colab": {
          "base_uri": "https://localhost:8080/"
        },
        "id": "s2uurA4qSZaX",
        "outputId": "d50df6a5-7d5a-4c13-f42f-1babff4d5d0b"
      },
      "source": [
        "l=l[::-1]\n",
        "print(l)"
      ],
      "execution_count": null,
      "outputs": [
        {
          "output_type": "stream",
          "name": "stdout",
          "text": [
            "[24, 26, 33, 36]\n"
          ]
        }
      ]
    },
    {
      "cell_type": "code",
      "metadata": {
        "id": "sEa2PrAaSsB4"
      },
      "source": [
        "## Fibonacci Series"
      ],
      "execution_count": null,
      "outputs": []
    },
    {
      "cell_type": "code",
      "metadata": {
        "id": "OM3xvrpaT6zh"
      },
      "source": [
        "def f(n):\n",
        "  if n==0:\n",
        "    return 0\n",
        "  elif n==1:\n",
        "    return 1\n",
        "  else:\n",
        "    return f(n-1)+f(n-2)"
      ],
      "execution_count": null,
      "outputs": []
    },
    {
      "cell_type": "code",
      "metadata": {
        "colab": {
          "base_uri": "https://localhost:8080/"
        },
        "id": "cSHKb42iUMbf",
        "outputId": "ce43fd8a-065b-4798-979a-6dabf3154ad5"
      },
      "source": [
        "for i in range(0,12):\n",
        "  print(f(i))"
      ],
      "execution_count": null,
      "outputs": [
        {
          "output_type": "stream",
          "name": "stdout",
          "text": [
            "0\n",
            "1\n",
            "1\n",
            "2\n",
            "3\n",
            "5\n",
            "8\n",
            "13\n",
            "21\n",
            "34\n",
            "55\n",
            "89\n"
          ]
        }
      ]
    },
    {
      "cell_type": "code",
      "metadata": {
        "id": "ajZvI_F7VX-S"
      },
      "source": [
        "## Pallindrome"
      ],
      "execution_count": null,
      "outputs": []
    },
    {
      "cell_type": "code",
      "metadata": {
        "id": "ZjB0ba-xVaRm"
      },
      "source": [
        "def pal(m):\n",
        "  if m==m[::-1]:\n",
        "    print(\"Palindrome\")\n",
        "  else:\n",
        "    print(\"Not a Palindrome\")\n"
      ],
      "execution_count": null,
      "outputs": []
    },
    {
      "cell_type": "code",
      "metadata": {
        "colab": {
          "base_uri": "https://localhost:8080/"
        },
        "id": "FwChq_EcVvUv",
        "outputId": "4f9c85ec-608e-4217-e3bf-12a60d2afac8"
      },
      "source": [
        "pal(\"SOS\")\n",
        "pal(\"Teacher\")\n",
        "pal(\"MOM\")"
      ],
      "execution_count": null,
      "outputs": [
        {
          "output_type": "stream",
          "name": "stdout",
          "text": [
            "Palindrome\n",
            "Not a Palindrome\n",
            "Palindrome\n"
          ]
        }
      ]
    },
    {
      "cell_type": "code",
      "metadata": {
        "id": "emPpk8MWWYig"
      },
      "source": [
        "## Print set of duplicates from a list"
      ],
      "execution_count": null,
      "outputs": []
    },
    {
      "cell_type": "code",
      "metadata": {
        "id": "GVVHZ79mWc59"
      },
      "source": [
        "l=[56,46,56,40,40,32,12]"
      ],
      "execution_count": null,
      "outputs": []
    },
    {
      "cell_type": "code",
      "metadata": {
        "colab": {
          "base_uri": "https://localhost:8080/"
        },
        "id": "z4oS3BhEWhV3",
        "outputId": "e3f0546d-01bb-4804-d347-be90408d4121"
      },
      "source": [
        "dup=set([x for x in l if l.count(x)>1])\n",
        "print(dup)"
      ],
      "execution_count": null,
      "outputs": [
        {
          "output_type": "stream",
          "name": "stdout",
          "text": [
            "{56, 40}\n"
          ]
        }
      ]
    },
    {
      "cell_type": "code",
      "metadata": {
        "id": "kjQzalUPXbzu"
      },
      "source": [
        "## program to print number of word in a given sentence"
      ],
      "execution_count": null,
      "outputs": []
    },
    {
      "cell_type": "code",
      "metadata": {
        "id": "zDfBpJ2KXnRw"
      },
      "source": [
        "s=\" I am having a perfect time of my life\""
      ],
      "execution_count": null,
      "outputs": []
    },
    {
      "cell_type": "code",
      "metadata": {
        "colab": {
          "base_uri": "https://localhost:8080/"
        },
        "id": "U1zZMA98XyQH",
        "outputId": "23b0aec9-2daf-49df-fd79-96ea4960de22"
      },
      "source": [
        "s.split()\n",
        "print(len(s.split()))"
      ],
      "execution_count": null,
      "outputs": [
        {
          "output_type": "stream",
          "name": "stdout",
          "text": [
            "9\n"
          ]
        }
      ]
    },
    {
      "cell_type": "code",
      "metadata": {
        "id": "rNspmXxvX1iq"
      },
      "source": [
        "##Given an array arr[] of n elements , write a python function to search given element x in arr[] \n",
        "# returns the index value"
      ],
      "execution_count": null,
      "outputs": []
    },
    {
      "cell_type": "code",
      "metadata": {
        "id": "4KUMoLRCYlAf"
      },
      "source": [
        "def search(arr,x):\n",
        "  for i in range(len(arr)):\n",
        "    if arr[i]==x:\n",
        "      return i\n",
        "\n",
        "  print(\"not present in the list\")\n",
        "      "
      ],
      "execution_count": null,
      "outputs": []
    },
    {
      "cell_type": "code",
      "metadata": {
        "colab": {
          "base_uri": "https://localhost:8080/"
        },
        "id": "2kX8Sp_TY8AP",
        "outputId": "122e9476-ce10-4c5c-f528-26f2591a4920"
      },
      "source": [
        "l=[1,2,3,3,4,4,5,6]\n",
        "search(l,6)"
      ],
      "execution_count": null,
      "outputs": [
        {
          "output_type": "execute_result",
          "data": {
            "text/plain": [
              "7"
            ]
          },
          "metadata": {},
          "execution_count": 72
        }
      ]
    },
    {
      "cell_type": "code",
      "metadata": {
        "id": "9o4pseRjZY4l"
      },
      "source": [
        "## program to join two strings"
      ],
      "execution_count": null,
      "outputs": []
    },
    {
      "cell_type": "code",
      "metadata": {
        "id": "_RUwKGt0Z4mL"
      },
      "source": [
        "first=\"Hii, How are you . \" \n",
        "second=\"My name is Divitya\""
      ],
      "execution_count": null,
      "outputs": []
    },
    {
      "cell_type": "code",
      "metadata": {
        "colab": {
          "base_uri": "https://localhost:8080/"
        },
        "id": "ytmHrFslacL7",
        "outputId": "c14610f8-2c90-4ec3-ee76-6800aca2cf7f"
      },
      "source": [
        "sentence=first+second\n",
        "print(sentence)"
      ],
      "execution_count": null,
      "outputs": [
        {
          "output_type": "stream",
          "name": "stdout",
          "text": [
            "Hii, How are you . My name is Divitya\n"
          ]
        }
      ]
    },
    {
      "cell_type": "code",
      "metadata": {
        "colab": {
          "base_uri": "https://localhost:8080/"
        },
        "id": "PZNeSQFUa6zY",
        "outputId": "41102775-2460-4e67-ef55-c0239f92fe7c"
      },
      "source": [
        "## other way\n",
        "\n",
        "print(\" \".join([first,second]))"
      ],
      "execution_count": null,
      "outputs": [
        {
          "output_type": "stream",
          "name": "stdout",
          "text": [
            "Hii, How are you .  My name is Divitya\n"
          ]
        }
      ]
    },
    {
      "cell_type": "code",
      "metadata": {
        "id": "nBvhX1roapbJ"
      },
      "source": [
        "## isdigit function"
      ],
      "execution_count": null,
      "outputs": []
    },
    {
      "cell_type": "code",
      "metadata": {
        "id": "VmdeLjA_aw4x"
      },
      "source": [
        "sen=\"My name is Divitya\""
      ],
      "execution_count": null,
      "outputs": []
    },
    {
      "cell_type": "code",
      "metadata": {
        "colab": {
          "base_uri": "https://localhost:8080/"
        },
        "id": "z47V_zQubbBc",
        "outputId": "d0c39816-01ed-48a4-940e-0d13840eea15"
      },
      "source": [
        "\n",
        "print(sen.isdigit())"
      ],
      "execution_count": null,
      "outputs": [
        {
          "output_type": "stream",
          "name": "stdout",
          "text": [
            "False\n"
          ]
        }
      ]
    },
    {
      "cell_type": "code",
      "metadata": {
        "id": "ANA-bSShbdRu"
      },
      "source": [
        "##Write a Python program to split strings using newline delimiter "
      ],
      "execution_count": null,
      "outputs": []
    },
    {
      "cell_type": "code",
      "metadata": {
        "colab": {
          "base_uri": "https://localhost:8080/"
        },
        "id": "qapIQ3IgcI2b",
        "outputId": "728de8ff-2881-4dbe-999e-43b65a49595e"
      },
      "source": [
        "ini_str=\"This is a test program\"\n",
        "\n",
        "print(\"initial string\" ,ini_str)\n",
        "\n",
        "res_list=(ini_str.rstrip().split(\" \"))\n",
        "\n",
        "print(res_list)"
      ],
      "execution_count": null,
      "outputs": [
        {
          "output_type": "stream",
          "name": "stdout",
          "text": [
            "initial string This is a test program\n",
            "['This', 'is', 'a', 'test', 'program']\n"
          ]
        }
      ]
    }
  ]
}